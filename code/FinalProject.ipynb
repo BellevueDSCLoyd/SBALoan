{
 "cells": [
  {
   "cell_type": "markdown",
   "metadata": {},
   "source": [
    "### Final Project SBA Loan Data\n",
    "### DSC 630\n",
    "### Sam Loyd\n",
    "### November 2020\n",
    "### FinalProject\n",
    "\n",
    "\n",
    "#### Data analysis was performed in R Studio in 630Project.r.\n",
    "#### Model creation, testing and evaluation was performed here.\n",
    "#### Model Selection and parameter tuning tasks were performed in the following files as appropriate:   \n",
    "#### * Pycaret_Log - Model selection for loan repayment\n",
    "#### * Pycaret_Log_Tuning - Model tuning\n",
    "#### * Pycaret_Reg - Model selection for job creation\n",
    "#### * Pycaret_Reg_Tuning - Model tuning"
   ]
  },
  {
   "cell_type": "code",
   "execution_count": 1,
   "metadata": {},
   "outputs": [],
   "source": [
    "# Required libraries\n",
    "import pandas as pd\n",
    "import seaborn as sns\n",
    "import numpy as np\n",
    "# import matplotlib.pyplot as pt\n",
    "import sklearn\n",
    "from scipy.stats import pearsonr\n",
    "import matplotlib.pyplot as matplotlib\n",
    "from matplotlib.lines import Line2D\n",
    "from matplotlib import pyplot\n",
    "pd.options.display.float_format = '{:.2f}'.format\n",
    "import seaborn \n",
    "from sklearn.ensemble import RandomForestClassifier\n",
    "from sklearn.tree import DecisionTreeClassifier\n",
    "from sklearn.tree import DecisionTreeRegressor\n",
    "from sklearn.ensemble import RandomForestRegressor\n",
    "from IPython.display import Image\n",
    "from pprint import pprint\n",
    "import matplotlib.pyplot as plt\n",
    "from sklearn.model_selection import train_test_split\n",
    "from sklearn.feature_selection import SelectFromModel\n",
    "from sklearn.preprocessing import MinMaxScaler\n",
    "from sklearn import svm\n",
    "from sklearn.preprocessing import minmax_scale\n",
    "from sklearn.preprocessing import StandardScaler\n",
    "from sklearn.neural_network import MLPRegressor, MLPClassifier\n",
    "from lightgbm import LGBMRegressor\n",
    "from sklearn.linear_model import LogisticRegression\n",
    "from sklearn.kernel_ridge import KernelRidge\n",
    "from yellowbrick.classifier import ROCAUC\n",
    "from sklearn.model_selection import GridSearchCV\n",
    "from sklearn.multioutput import RegressorChain\n",
    "from sklearn.model_selection import RandomizedSearchCV\n",
    "from sklearn.model_selection import cross_val_score\n",
    "from sklearn.metrics import classification_report, confusion_matrix\n",
    "from sklearn.model_selection import RandomizedSearchCV\n",
    "from sklearn.metrics import r2_score\n",
    "from sklearn.metrics import mean_squared_error\n",
    "from sklearn import model_selection\n",
    "from sklearn.metrics import confusion_matrix\n",
    "import pylab as pl\n",
    "from sklearn import svm\n",
    "from sklearn.neighbors import KNeighborsRegressor\n",
    "from sklearn import metrics\n",
    "# from pycaret.regression import *\n",
    "# from pycaret.classification import *\n",
    "from catboost import CatBoostRegressor\n",
    "from catboost import CatBoostClassifier\n",
    "import pickle"
   ]
  },
  {
   "cell_type": "code",
   "execution_count": 2,
   "metadata": {},
   "outputs": [
    {
     "data": {
      "text/html": [
       "<div>\n",
       "<style scoped>\n",
       "    .dataframe tbody tr th:only-of-type {\n",
       "        vertical-align: middle;\n",
       "    }\n",
       "\n",
       "    .dataframe tbody tr th {\n",
       "        vertical-align: top;\n",
       "    }\n",
       "\n",
       "    .dataframe thead th {\n",
       "        text-align: right;\n",
       "    }\n",
       "</style>\n",
       "<table border=\"1\" class=\"dataframe\">\n",
       "  <thead>\n",
       "    <tr style=\"text-align: right;\">\n",
       "      <th></th>\n",
       "      <th>ApprovalFY</th>\n",
       "      <th>Term</th>\n",
       "      <th>NoEmp</th>\n",
       "      <th>CreateJob</th>\n",
       "      <th>GrAppv</th>\n",
       "      <th>SBA_Appv</th>\n",
       "      <th>NewExist_0</th>\n",
       "      <th>NewExist_1</th>\n",
       "      <th>NewExist_2</th>\n",
       "      <th>NewExist_U</th>\n",
       "      <th>...</th>\n",
       "      <th>Bank_4</th>\n",
       "      <th>Bank_5</th>\n",
       "      <th>Bank_6</th>\n",
       "      <th>Bank_7</th>\n",
       "      <th>Bank_8</th>\n",
       "      <th>Bank_9</th>\n",
       "      <th>Bank_10</th>\n",
       "      <th>Bank_11</th>\n",
       "      <th>Bank_12</th>\n",
       "      <th>Bank_13</th>\n",
       "    </tr>\n",
       "  </thead>\n",
       "  <tbody>\n",
       "    <tr>\n",
       "      <th>0</th>\n",
       "      <td>35</td>\n",
       "      <td>84</td>\n",
       "      <td>4</td>\n",
       "      <td>0</td>\n",
       "      <td>60000</td>\n",
       "      <td>48000</td>\n",
       "      <td>0</td>\n",
       "      <td>0</td>\n",
       "      <td>1</td>\n",
       "      <td>0</td>\n",
       "      <td>...</td>\n",
       "      <td>0</td>\n",
       "      <td>0</td>\n",
       "      <td>0</td>\n",
       "      <td>0</td>\n",
       "      <td>0</td>\n",
       "      <td>0</td>\n",
       "      <td>0</td>\n",
       "      <td>0</td>\n",
       "      <td>0</td>\n",
       "      <td>1</td>\n",
       "    </tr>\n",
       "    <tr>\n",
       "      <th>1</th>\n",
       "      <td>35</td>\n",
       "      <td>60</td>\n",
       "      <td>2</td>\n",
       "      <td>0</td>\n",
       "      <td>40000</td>\n",
       "      <td>32000</td>\n",
       "      <td>0</td>\n",
       "      <td>0</td>\n",
       "      <td>1</td>\n",
       "      <td>0</td>\n",
       "      <td>...</td>\n",
       "      <td>0</td>\n",
       "      <td>0</td>\n",
       "      <td>0</td>\n",
       "      <td>0</td>\n",
       "      <td>0</td>\n",
       "      <td>0</td>\n",
       "      <td>0</td>\n",
       "      <td>0</td>\n",
       "      <td>1</td>\n",
       "      <td>0</td>\n",
       "    </tr>\n",
       "    <tr>\n",
       "      <th>2</th>\n",
       "      <td>35</td>\n",
       "      <td>180</td>\n",
       "      <td>7</td>\n",
       "      <td>0</td>\n",
       "      <td>287000</td>\n",
       "      <td>215250</td>\n",
       "      <td>0</td>\n",
       "      <td>1</td>\n",
       "      <td>0</td>\n",
       "      <td>0</td>\n",
       "      <td>...</td>\n",
       "      <td>0</td>\n",
       "      <td>0</td>\n",
       "      <td>0</td>\n",
       "      <td>0</td>\n",
       "      <td>0</td>\n",
       "      <td>0</td>\n",
       "      <td>0</td>\n",
       "      <td>0</td>\n",
       "      <td>1</td>\n",
       "      <td>1</td>\n",
       "    </tr>\n",
       "    <tr>\n",
       "      <th>3</th>\n",
       "      <td>35</td>\n",
       "      <td>60</td>\n",
       "      <td>2</td>\n",
       "      <td>0</td>\n",
       "      <td>35000</td>\n",
       "      <td>28000</td>\n",
       "      <td>0</td>\n",
       "      <td>1</td>\n",
       "      <td>0</td>\n",
       "      <td>0</td>\n",
       "      <td>...</td>\n",
       "      <td>0</td>\n",
       "      <td>0</td>\n",
       "      <td>0</td>\n",
       "      <td>0</td>\n",
       "      <td>0</td>\n",
       "      <td>0</td>\n",
       "      <td>0</td>\n",
       "      <td>1</td>\n",
       "      <td>0</td>\n",
       "      <td>0</td>\n",
       "    </tr>\n",
       "    <tr>\n",
       "      <th>4</th>\n",
       "      <td>35</td>\n",
       "      <td>240</td>\n",
       "      <td>14</td>\n",
       "      <td>7</td>\n",
       "      <td>229000</td>\n",
       "      <td>229000</td>\n",
       "      <td>0</td>\n",
       "      <td>1</td>\n",
       "      <td>0</td>\n",
       "      <td>0</td>\n",
       "      <td>...</td>\n",
       "      <td>0</td>\n",
       "      <td>0</td>\n",
       "      <td>0</td>\n",
       "      <td>0</td>\n",
       "      <td>0</td>\n",
       "      <td>0</td>\n",
       "      <td>0</td>\n",
       "      <td>1</td>\n",
       "      <td>0</td>\n",
       "      <td>1</td>\n",
       "    </tr>\n",
       "    <tr>\n",
       "      <th>...</th>\n",
       "      <td>...</td>\n",
       "      <td>...</td>\n",
       "      <td>...</td>\n",
       "      <td>...</td>\n",
       "      <td>...</td>\n",
       "      <td>...</td>\n",
       "      <td>...</td>\n",
       "      <td>...</td>\n",
       "      <td>...</td>\n",
       "      <td>...</td>\n",
       "      <td>...</td>\n",
       "      <td>...</td>\n",
       "      <td>...</td>\n",
       "      <td>...</td>\n",
       "      <td>...</td>\n",
       "      <td>...</td>\n",
       "      <td>...</td>\n",
       "      <td>...</td>\n",
       "      <td>...</td>\n",
       "      <td>...</td>\n",
       "      <td>...</td>\n",
       "    </tr>\n",
       "    <tr>\n",
       "      <th>897105</th>\n",
       "      <td>35</td>\n",
       "      <td>60</td>\n",
       "      <td>6</td>\n",
       "      <td>0</td>\n",
       "      <td>70000</td>\n",
       "      <td>56000</td>\n",
       "      <td>0</td>\n",
       "      <td>1</td>\n",
       "      <td>0</td>\n",
       "      <td>0</td>\n",
       "      <td>...</td>\n",
       "      <td>0</td>\n",
       "      <td>0</td>\n",
       "      <td>0</td>\n",
       "      <td>0</td>\n",
       "      <td>1</td>\n",
       "      <td>0</td>\n",
       "      <td>0</td>\n",
       "      <td>0</td>\n",
       "      <td>1</td>\n",
       "      <td>1</td>\n",
       "    </tr>\n",
       "    <tr>\n",
       "      <th>897106</th>\n",
       "      <td>35</td>\n",
       "      <td>60</td>\n",
       "      <td>6</td>\n",
       "      <td>0</td>\n",
       "      <td>85000</td>\n",
       "      <td>42500</td>\n",
       "      <td>0</td>\n",
       "      <td>1</td>\n",
       "      <td>0</td>\n",
       "      <td>0</td>\n",
       "      <td>...</td>\n",
       "      <td>0</td>\n",
       "      <td>0</td>\n",
       "      <td>0</td>\n",
       "      <td>0</td>\n",
       "      <td>1</td>\n",
       "      <td>0</td>\n",
       "      <td>0</td>\n",
       "      <td>0</td>\n",
       "      <td>1</td>\n",
       "      <td>1</td>\n",
       "    </tr>\n",
       "    <tr>\n",
       "      <th>897107</th>\n",
       "      <td>35</td>\n",
       "      <td>108</td>\n",
       "      <td>26</td>\n",
       "      <td>0</td>\n",
       "      <td>300000</td>\n",
       "      <td>225000</td>\n",
       "      <td>0</td>\n",
       "      <td>1</td>\n",
       "      <td>0</td>\n",
       "      <td>0</td>\n",
       "      <td>...</td>\n",
       "      <td>0</td>\n",
       "      <td>0</td>\n",
       "      <td>0</td>\n",
       "      <td>0</td>\n",
       "      <td>1</td>\n",
       "      <td>1</td>\n",
       "      <td>1</td>\n",
       "      <td>1</td>\n",
       "      <td>0</td>\n",
       "      <td>1</td>\n",
       "    </tr>\n",
       "    <tr>\n",
       "      <th>897108</th>\n",
       "      <td>35</td>\n",
       "      <td>60</td>\n",
       "      <td>6</td>\n",
       "      <td>0</td>\n",
       "      <td>75000</td>\n",
       "      <td>60000</td>\n",
       "      <td>0</td>\n",
       "      <td>1</td>\n",
       "      <td>0</td>\n",
       "      <td>0</td>\n",
       "      <td>...</td>\n",
       "      <td>0</td>\n",
       "      <td>0</td>\n",
       "      <td>1</td>\n",
       "      <td>1</td>\n",
       "      <td>1</td>\n",
       "      <td>1</td>\n",
       "      <td>0</td>\n",
       "      <td>0</td>\n",
       "      <td>0</td>\n",
       "      <td>1</td>\n",
       "    </tr>\n",
       "    <tr>\n",
       "      <th>897109</th>\n",
       "      <td>35</td>\n",
       "      <td>48</td>\n",
       "      <td>1</td>\n",
       "      <td>0</td>\n",
       "      <td>30000</td>\n",
       "      <td>24000</td>\n",
       "      <td>0</td>\n",
       "      <td>0</td>\n",
       "      <td>1</td>\n",
       "      <td>0</td>\n",
       "      <td>...</td>\n",
       "      <td>0</td>\n",
       "      <td>1</td>\n",
       "      <td>0</td>\n",
       "      <td>1</td>\n",
       "      <td>0</td>\n",
       "      <td>1</td>\n",
       "      <td>0</td>\n",
       "      <td>1</td>\n",
       "      <td>0</td>\n",
       "      <td>1</td>\n",
       "    </tr>\n",
       "  </tbody>\n",
       "</table>\n",
       "<p>897110 rows × 70 columns</p>\n",
       "</div>"
      ],
      "text/plain": [
       "        ApprovalFY  Term  NoEmp  CreateJob  GrAppv  SBA_Appv  NewExist_0  \\\n",
       "0               35    84      4          0   60000     48000           0   \n",
       "1               35    60      2          0   40000     32000           0   \n",
       "2               35   180      7          0  287000    215250           0   \n",
       "3               35    60      2          0   35000     28000           0   \n",
       "4               35   240     14          7  229000    229000           0   \n",
       "...            ...   ...    ...        ...     ...       ...         ...   \n",
       "897105          35    60      6          0   70000     56000           0   \n",
       "897106          35    60      6          0   85000     42500           0   \n",
       "897107          35   108     26          0  300000    225000           0   \n",
       "897108          35    60      6          0   75000     60000           0   \n",
       "897109          35    48      1          0   30000     24000           0   \n",
       "\n",
       "        NewExist_1  NewExist_2  NewExist_U  ...  Bank_4  Bank_5  Bank_6  \\\n",
       "0                0           1           0  ...       0       0       0   \n",
       "1                0           1           0  ...       0       0       0   \n",
       "2                1           0           0  ...       0       0       0   \n",
       "3                1           0           0  ...       0       0       0   \n",
       "4                1           0           0  ...       0       0       0   \n",
       "...            ...         ...         ...  ...     ...     ...     ...   \n",
       "897105           1           0           0  ...       0       0       0   \n",
       "897106           1           0           0  ...       0       0       0   \n",
       "897107           1           0           0  ...       0       0       0   \n",
       "897108           1           0           0  ...       0       0       1   \n",
       "897109           0           1           0  ...       0       1       0   \n",
       "\n",
       "        Bank_7  Bank_8  Bank_9  Bank_10  Bank_11  Bank_12  Bank_13  \n",
       "0            0       0       0        0        0        0        1  \n",
       "1            0       0       0        0        0        1        0  \n",
       "2            0       0       0        0        0        1        1  \n",
       "3            0       0       0        0        1        0        0  \n",
       "4            0       0       0        0        1        0        1  \n",
       "...        ...     ...     ...      ...      ...      ...      ...  \n",
       "897105       0       1       0        0        0        1        1  \n",
       "897106       0       1       0        0        0        1        1  \n",
       "897107       0       1       1        1        1        0        1  \n",
       "897108       1       1       1        0        0        0        1  \n",
       "897109       1       0       1        0        1        0        1  \n",
       "\n",
       "[897110 rows x 70 columns]"
      ]
     },
     "execution_count": 2,
     "metadata": {},
     "output_type": "execute_result"
    }
   ],
   "source": [
    "raw_sba_df = pd.read_csv(\"C:\\\\Users\\\\Loyd\\\\Documents\\\\630Project\\\\sbapython.csv\")\n",
    "raw_sba_df"
   ]
  },
  {
   "cell_type": "markdown",
   "metadata": {},
   "source": [
    "#### Log transformations proved extremely helpful in predicting the regression target, and had little impact on the classificaton variable.\n",
    "#### Normalize the data in case some models require it.  Non-gaussian so normalizing instead of standardizing."
   ]
  },
  {
   "cell_type": "code",
   "execution_count": 3,
   "metadata": {},
   "outputs": [
    {
     "data": {
      "text/html": [
       "<div>\n",
       "<style scoped>\n",
       "    .dataframe tbody tr th:only-of-type {\n",
       "        vertical-align: middle;\n",
       "    }\n",
       "\n",
       "    .dataframe tbody tr th {\n",
       "        vertical-align: top;\n",
       "    }\n",
       "\n",
       "    .dataframe thead th {\n",
       "        text-align: right;\n",
       "    }\n",
       "</style>\n",
       "<table border=\"1\" class=\"dataframe\">\n",
       "  <thead>\n",
       "    <tr style=\"text-align: right;\">\n",
       "      <th></th>\n",
       "      <th>ApprovalFY</th>\n",
       "      <th>Term</th>\n",
       "      <th>NoEmp</th>\n",
       "      <th>CreateJob</th>\n",
       "      <th>GrAppv</th>\n",
       "      <th>SBA_Appv</th>\n",
       "      <th>NewExist_0</th>\n",
       "      <th>NewExist_1</th>\n",
       "      <th>NewExist_2</th>\n",
       "      <th>NewExist_U</th>\n",
       "      <th>...</th>\n",
       "      <th>Bank_4</th>\n",
       "      <th>Bank_5</th>\n",
       "      <th>Bank_6</th>\n",
       "      <th>Bank_7</th>\n",
       "      <th>Bank_8</th>\n",
       "      <th>Bank_9</th>\n",
       "      <th>Bank_10</th>\n",
       "      <th>Bank_11</th>\n",
       "      <th>Bank_12</th>\n",
       "      <th>Bank_13</th>\n",
       "    </tr>\n",
       "  </thead>\n",
       "  <tbody>\n",
       "    <tr>\n",
       "      <th>0</th>\n",
       "      <td>0.65</td>\n",
       "      <td>0.70</td>\n",
       "      <td>0.17</td>\n",
       "      <td>0</td>\n",
       "      <td>0.48</td>\n",
       "      <td>0.51</td>\n",
       "      <td>0</td>\n",
       "      <td>0</td>\n",
       "      <td>1</td>\n",
       "      <td>0</td>\n",
       "      <td>...</td>\n",
       "      <td>0</td>\n",
       "      <td>0</td>\n",
       "      <td>0</td>\n",
       "      <td>0</td>\n",
       "      <td>0</td>\n",
       "      <td>0</td>\n",
       "      <td>0</td>\n",
       "      <td>0</td>\n",
       "      <td>0</td>\n",
       "      <td>1</td>\n",
       "    </tr>\n",
       "    <tr>\n",
       "      <th>1</th>\n",
       "      <td>0.65</td>\n",
       "      <td>0.65</td>\n",
       "      <td>0.12</td>\n",
       "      <td>0</td>\n",
       "      <td>0.43</td>\n",
       "      <td>0.47</td>\n",
       "      <td>0</td>\n",
       "      <td>0</td>\n",
       "      <td>1</td>\n",
       "      <td>0</td>\n",
       "      <td>...</td>\n",
       "      <td>0</td>\n",
       "      <td>0</td>\n",
       "      <td>0</td>\n",
       "      <td>0</td>\n",
       "      <td>0</td>\n",
       "      <td>0</td>\n",
       "      <td>0</td>\n",
       "      <td>0</td>\n",
       "      <td>1</td>\n",
       "      <td>0</td>\n",
       "    </tr>\n",
       "    <tr>\n",
       "      <th>2</th>\n",
       "      <td>0.65</td>\n",
       "      <td>0.82</td>\n",
       "      <td>0.23</td>\n",
       "      <td>0</td>\n",
       "      <td>0.66</td>\n",
       "      <td>0.68</td>\n",
       "      <td>0</td>\n",
       "      <td>1</td>\n",
       "      <td>0</td>\n",
       "      <td>0</td>\n",
       "      <td>...</td>\n",
       "      <td>0</td>\n",
       "      <td>0</td>\n",
       "      <td>0</td>\n",
       "      <td>0</td>\n",
       "      <td>0</td>\n",
       "      <td>0</td>\n",
       "      <td>0</td>\n",
       "      <td>0</td>\n",
       "      <td>1</td>\n",
       "      <td>1</td>\n",
       "    </tr>\n",
       "    <tr>\n",
       "      <th>3</th>\n",
       "      <td>0.65</td>\n",
       "      <td>0.65</td>\n",
       "      <td>0.12</td>\n",
       "      <td>0</td>\n",
       "      <td>0.42</td>\n",
       "      <td>0.45</td>\n",
       "      <td>0</td>\n",
       "      <td>1</td>\n",
       "      <td>0</td>\n",
       "      <td>0</td>\n",
       "      <td>...</td>\n",
       "      <td>0</td>\n",
       "      <td>0</td>\n",
       "      <td>0</td>\n",
       "      <td>0</td>\n",
       "      <td>0</td>\n",
       "      <td>0</td>\n",
       "      <td>0</td>\n",
       "      <td>1</td>\n",
       "      <td>0</td>\n",
       "      <td>0</td>\n",
       "    </tr>\n",
       "    <tr>\n",
       "      <th>4</th>\n",
       "      <td>0.65</td>\n",
       "      <td>0.86</td>\n",
       "      <td>0.29</td>\n",
       "      <td>7</td>\n",
       "      <td>0.64</td>\n",
       "      <td>0.69</td>\n",
       "      <td>0</td>\n",
       "      <td>1</td>\n",
       "      <td>0</td>\n",
       "      <td>0</td>\n",
       "      <td>...</td>\n",
       "      <td>0</td>\n",
       "      <td>0</td>\n",
       "      <td>0</td>\n",
       "      <td>0</td>\n",
       "      <td>0</td>\n",
       "      <td>0</td>\n",
       "      <td>0</td>\n",
       "      <td>1</td>\n",
       "      <td>0</td>\n",
       "      <td>1</td>\n",
       "    </tr>\n",
       "    <tr>\n",
       "      <th>...</th>\n",
       "      <td>...</td>\n",
       "      <td>...</td>\n",
       "      <td>...</td>\n",
       "      <td>...</td>\n",
       "      <td>...</td>\n",
       "      <td>...</td>\n",
       "      <td>...</td>\n",
       "      <td>...</td>\n",
       "      <td>...</td>\n",
       "      <td>...</td>\n",
       "      <td>...</td>\n",
       "      <td>...</td>\n",
       "      <td>...</td>\n",
       "      <td>...</td>\n",
       "      <td>...</td>\n",
       "      <td>...</td>\n",
       "      <td>...</td>\n",
       "      <td>...</td>\n",
       "      <td>...</td>\n",
       "      <td>...</td>\n",
       "      <td>...</td>\n",
       "    </tr>\n",
       "    <tr>\n",
       "      <th>897105</th>\n",
       "      <td>0.65</td>\n",
       "      <td>0.65</td>\n",
       "      <td>0.21</td>\n",
       "      <td>0</td>\n",
       "      <td>0.50</td>\n",
       "      <td>0.53</td>\n",
       "      <td>0</td>\n",
       "      <td>1</td>\n",
       "      <td>0</td>\n",
       "      <td>0</td>\n",
       "      <td>...</td>\n",
       "      <td>0</td>\n",
       "      <td>0</td>\n",
       "      <td>0</td>\n",
       "      <td>0</td>\n",
       "      <td>1</td>\n",
       "      <td>0</td>\n",
       "      <td>0</td>\n",
       "      <td>0</td>\n",
       "      <td>1</td>\n",
       "      <td>1</td>\n",
       "    </tr>\n",
       "    <tr>\n",
       "      <th>897106</th>\n",
       "      <td>0.65</td>\n",
       "      <td>0.65</td>\n",
       "      <td>0.21</td>\n",
       "      <td>0</td>\n",
       "      <td>0.52</td>\n",
       "      <td>0.50</td>\n",
       "      <td>0</td>\n",
       "      <td>1</td>\n",
       "      <td>0</td>\n",
       "      <td>0</td>\n",
       "      <td>...</td>\n",
       "      <td>0</td>\n",
       "      <td>0</td>\n",
       "      <td>0</td>\n",
       "      <td>0</td>\n",
       "      <td>1</td>\n",
       "      <td>0</td>\n",
       "      <td>0</td>\n",
       "      <td>0</td>\n",
       "      <td>1</td>\n",
       "      <td>1</td>\n",
       "    </tr>\n",
       "    <tr>\n",
       "      <th>897107</th>\n",
       "      <td>0.65</td>\n",
       "      <td>0.74</td>\n",
       "      <td>0.36</td>\n",
       "      <td>0</td>\n",
       "      <td>0.67</td>\n",
       "      <td>0.68</td>\n",
       "      <td>0</td>\n",
       "      <td>1</td>\n",
       "      <td>0</td>\n",
       "      <td>0</td>\n",
       "      <td>...</td>\n",
       "      <td>0</td>\n",
       "      <td>0</td>\n",
       "      <td>0</td>\n",
       "      <td>0</td>\n",
       "      <td>1</td>\n",
       "      <td>1</td>\n",
       "      <td>1</td>\n",
       "      <td>1</td>\n",
       "      <td>0</td>\n",
       "      <td>1</td>\n",
       "    </tr>\n",
       "    <tr>\n",
       "      <th>897108</th>\n",
       "      <td>0.65</td>\n",
       "      <td>0.65</td>\n",
       "      <td>0.21</td>\n",
       "      <td>0</td>\n",
       "      <td>0.51</td>\n",
       "      <td>0.54</td>\n",
       "      <td>0</td>\n",
       "      <td>1</td>\n",
       "      <td>0</td>\n",
       "      <td>0</td>\n",
       "      <td>...</td>\n",
       "      <td>0</td>\n",
       "      <td>0</td>\n",
       "      <td>1</td>\n",
       "      <td>1</td>\n",
       "      <td>1</td>\n",
       "      <td>1</td>\n",
       "      <td>0</td>\n",
       "      <td>0</td>\n",
       "      <td>0</td>\n",
       "      <td>1</td>\n",
       "    </tr>\n",
       "    <tr>\n",
       "      <th>897109</th>\n",
       "      <td>0.65</td>\n",
       "      <td>0.61</td>\n",
       "      <td>0.08</td>\n",
       "      <td>0</td>\n",
       "      <td>0.40</td>\n",
       "      <td>0.43</td>\n",
       "      <td>0</td>\n",
       "      <td>0</td>\n",
       "      <td>1</td>\n",
       "      <td>0</td>\n",
       "      <td>...</td>\n",
       "      <td>0</td>\n",
       "      <td>1</td>\n",
       "      <td>0</td>\n",
       "      <td>1</td>\n",
       "      <td>0</td>\n",
       "      <td>1</td>\n",
       "      <td>0</td>\n",
       "      <td>1</td>\n",
       "      <td>0</td>\n",
       "      <td>1</td>\n",
       "    </tr>\n",
       "  </tbody>\n",
       "</table>\n",
       "<p>897110 rows × 70 columns</p>\n",
       "</div>"
      ],
      "text/plain": [
       "        ApprovalFY  Term  NoEmp  CreateJob  GrAppv  SBA_Appv  NewExist_0  \\\n",
       "0             0.65  0.70   0.17          0    0.48      0.51           0   \n",
       "1             0.65  0.65   0.12          0    0.43      0.47           0   \n",
       "2             0.65  0.82   0.23          0    0.66      0.68           0   \n",
       "3             0.65  0.65   0.12          0    0.42      0.45           0   \n",
       "4             0.65  0.86   0.29          7    0.64      0.69           0   \n",
       "...            ...   ...    ...        ...     ...       ...         ...   \n",
       "897105        0.65  0.65   0.21          0    0.50      0.53           0   \n",
       "897106        0.65  0.65   0.21          0    0.52      0.50           0   \n",
       "897107        0.65  0.74   0.36          0    0.67      0.68           0   \n",
       "897108        0.65  0.65   0.21          0    0.51      0.54           0   \n",
       "897109        0.65  0.61   0.08          0    0.40      0.43           0   \n",
       "\n",
       "        NewExist_1  NewExist_2  NewExist_U  ...  Bank_4  Bank_5  Bank_6  \\\n",
       "0                0           1           0  ...       0       0       0   \n",
       "1                0           1           0  ...       0       0       0   \n",
       "2                1           0           0  ...       0       0       0   \n",
       "3                1           0           0  ...       0       0       0   \n",
       "4                1           0           0  ...       0       0       0   \n",
       "...            ...         ...         ...  ...     ...     ...     ...   \n",
       "897105           1           0           0  ...       0       0       0   \n",
       "897106           1           0           0  ...       0       0       0   \n",
       "897107           1           0           0  ...       0       0       0   \n",
       "897108           1           0           0  ...       0       0       1   \n",
       "897109           0           1           0  ...       0       1       0   \n",
       "\n",
       "        Bank_7  Bank_8  Bank_9  Bank_10  Bank_11  Bank_12  Bank_13  \n",
       "0            0       0       0        0        0        0        1  \n",
       "1            0       0       0        0        0        1        0  \n",
       "2            0       0       0        0        0        1        1  \n",
       "3            0       0       0        0        1        0        0  \n",
       "4            0       0       0        0        1        0        1  \n",
       "...        ...     ...     ...      ...      ...      ...      ...  \n",
       "897105       0       1       0        0        0        1        1  \n",
       "897106       0       1       0        0        0        1        1  \n",
       "897107       0       1       1        1        1        0        1  \n",
       "897108       1       1       1        0        0        0        1  \n",
       "897109       1       0       1        0        1        0        1  \n",
       "\n",
       "[897110 rows x 70 columns]"
      ]
     },
     "execution_count": 3,
     "metadata": {},
     "output_type": "execute_result"
    }
   ],
   "source": [
    "# Normalize the data since its non-Gaussian\n",
    "# scaler = MinMaxScaler() \n",
    "# sba_df[['Term','NoEmp','']] = scaler.fit_transform(data)\n",
    "sba_df = raw_sba_df.copy()\n",
    "sba_df[['Term','NoEmp','GrAppv','SBA_Appv']] = np.log1p(sba_df[['Term','NoEmp','GrAppv','SBA_Appv']])\n",
    "sba_df[['ApprovalFY','Term','NoEmp','GrAppv','SBA_Appv']] = minmax_scale(sba_df[['ApprovalFY','Term','NoEmp','GrAppv','SBA_Appv']])\n",
    "\n",
    "sba_df"
   ]
  },
  {
   "cell_type": "markdown",
   "metadata": {},
   "source": [
    "#### Split the data into 60,20,20 Train, Test Validate Sets."
   ]
  },
  {
   "cell_type": "code",
   "execution_count": 4,
   "metadata": {},
   "outputs": [],
   "source": [
    "# Create X from the features\n",
    "X = sba_df.drop(columns=['MIS_logical','CreateJob'])\n",
    "\n",
    "# Create y from output\n",
    "y = sba_df[['MIS_logical','CreateJob']]\n",
    "    \n",
    "X_train, X_test, y_train, y_test = train_test_split(X, y, test_size=0.2, random_state=1)\n",
    "\n",
    "X_train, X_val, y_train, y_val = train_test_split(X_train, y_train, test_size=0.25, random_state=1) # 0.25 x 0.8 = 0.2"
   ]
  },
  {
   "cell_type": "markdown",
   "metadata": {},
   "source": [
    "### Model Selction\n",
    "#### Manual Attempts\n",
    "#### Base Model Selection for Non Parametric Regressors for combined attempt.\n",
    "I commented out the code for reference, but left it for review.\n",
    "\n",
    "There is a fundamental problem. One is a classifier problem and the other is a regression problem."
   ]
  },
  {
   "cell_type": "code",
   "execution_count": 5,
   "metadata": {},
   "outputs": [],
   "source": [
    "# RandomForest\n",
    "# rf = RandomForestRegressor()\n",
    "# rf.fit(X_train,y_train)"
   ]
  },
  {
   "cell_type": "code",
   "execution_count": 6,
   "metadata": {},
   "outputs": [],
   "source": [
    "# predictions_rf = rf.predict(X_test)\n",
    "# r2_score(y_test, predictions_rf)\n",
    "# 0.24397661457150688\n",
    "# mean_squared_error(y_test, predictions_rf)\n",
    "# 32226.813267423066"
   ]
  },
  {
   "cell_type": "code",
   "execution_count": 7,
   "metadata": {},
   "outputs": [],
   "source": [
    "# DecisionTree\n",
    "# dt = DecisionTreeRegressor()\n",
    "# dt.fit(X_train,y_train)"
   ]
  },
  {
   "cell_type": "code",
   "execution_count": 8,
   "metadata": {},
   "outputs": [],
   "source": [
    "# Worse than the mean\n",
    "# predictions_dt = dt.predict(X_test)\n",
    "# r2_score(y_test, predictions_dt)\n",
    "# -0.318539443208018\n",
    "# mean_squared_error(y_test, predictions_dt)\n",
    "# 52987.94040878809"
   ]
  },
  {
   "cell_type": "code",
   "execution_count": 9,
   "metadata": {},
   "outputs": [],
   "source": [
    "# Chaining the best of the two\n",
    "# reg = RandomForestRegressor()\n",
    "# ChainRegression= RegressorChain(reg, order=[0,1])\n",
    "# ChainRegression.fit(X_train,y_train)"
   ]
  },
  {
   "cell_type": "code",
   "execution_count": 10,
   "metadata": {},
   "outputs": [],
   "source": [
    "# predictions_ch = ChainRegression.predict(X_test)\n",
    "# r2_score(y_test, predictions_ch)\n",
    "# 0.27658581354703804\n",
    "# mean_squared_error(y_test, predictions_ch)\n",
    "# 32374.292894349266"
   ]
  },
  {
   "cell_type": "markdown",
   "metadata": {},
   "source": [
    "## Splitting them out\n",
    "\n",
    "#### Extremely poor results on CreateJob unit log transforms were applied.\n",
    "\n",
    "I commented out the code for reference, but left it for review."
   ]
  },
  {
   "cell_type": "code",
   "execution_count": 11,
   "metadata": {},
   "outputs": [],
   "source": [
    "# RandomForest\n",
    "# rfc = RandomForestClassifier()\n",
    "# rfc.fit(X_train,y_train['MIS_logical'])"
   ]
  },
  {
   "cell_type": "code",
   "execution_count": 12,
   "metadata": {},
   "outputs": [],
   "source": [
    "# predictions_rfc = rfc.predict(X_test)"
   ]
  },
  {
   "cell_type": "code",
   "execution_count": 13,
   "metadata": {},
   "outputs": [],
   "source": [
    "# print(classification_report(y_test['MIS_logical'], predictions_rfc))\n",
    "#               precision    recall  f1-score   support\n",
    "#\n",
    "#            0       0.82      0.72      0.77     31473\n",
    "#            1       0.94      0.97      0.95    147949#\n",
    "# \n",
    "#     accuracy                           0.92    179422\n",
    "#    macro avg       0.88      0.84      0.86    179422\n",
    "# weighted avg       0.92      0.92      0.92    179422"
   ]
  },
  {
   "cell_type": "code",
   "execution_count": 14,
   "metadata": {},
   "outputs": [],
   "source": [
    "# r = RandomForestRegressor()\n",
    "# r.fit(X_train,y_train['CreateJob'])"
   ]
  },
  {
   "cell_type": "code",
   "execution_count": 15,
   "metadata": {},
   "outputs": [],
   "source": [
    "# Random Forest is not good at this.\n",
    "# predictions_rfr = rfr.predict(X_test)\n",
    "# r2_score(y_test['CreateJob'], predictions_rfr)\n",
    "# -0.1060937148831047\n",
    "# mean_squared_error(y_test['CreateJob'], predictions_rfr)\n",
    "# 64519.687057129435"
   ]
  },
  {
   "cell_type": "code",
   "execution_count": 16,
   "metadata": {},
   "outputs": [],
   "source": [
    "# neigh = KNeighborsRegressor(n_neighbors=20)\n",
    "# neigh.fit(X_train, y_train['CreateJob'])"
   ]
  },
  {
   "cell_type": "code",
   "execution_count": 17,
   "metadata": {},
   "outputs": [],
   "source": [
    "# predictions_neigh = neigh.predict(X_test)\n",
    "# r2_score(y_test['CreateJob'], predictions_neigh)\n",
    "# 0.017379498790345727"
   ]
  },
  {
   "cell_type": "code",
   "execution_count": 18,
   "metadata": {},
   "outputs": [],
   "source": [
    "# mean_squared_error(y_test['CreateJob'], predictions_neigh)\n",
    "# 62113.263133492546"
   ]
  },
  {
   "cell_type": "markdown",
   "metadata": {},
   "source": [
    "# Create Job Section"
   ]
  },
  {
   "cell_type": "markdown",
   "metadata": {},
   "source": [
    "### Model selection with Pycaret.\n",
    "\n",
    "From here I turned to pycaret to help me with model selection. It was a lot faster and easier to code. \n",
    "To look at that code, please see Pycaret_Reg and Pycaret_Cat. I split it off due to long run times.\n"
   ]
  },
  {
   "cell_type": "markdown",
   "metadata": {},
   "source": [
    "### Feature Selection \n",
    "\n",
    "#### Regression for CreateJob"
   ]
  },
  {
   "cell_type": "code",
   "execution_count": 19,
   "metadata": {},
   "outputs": [
    {
     "name": "stdout",
     "output_type": "stream",
     "text": [
      "[LightGBM] [Warning] Auto-choosing row-wise multi-threading, the overhead of testing was 0.046700 seconds.\n",
      "You can set `force_row_wise=true` to remove the overhead.\n",
      "And if memory is not enough, you can set `force_col_wise=true`.\n"
     ]
    },
    {
     "data": {
      "text/plain": [
       "LGBMRegressor(verbose=0)"
      ]
     },
     "execution_count": 19,
     "metadata": {},
     "output_type": "execute_result"
    }
   ],
   "source": [
    "# Split sets for feature selection\n",
    "np.set_printoptions(suppress=True)\n",
    "all_features=X_train\n",
    "target = y_train['CreateJob']\n",
    "modelreg = LGBMRegressor(verbose=0)\n",
    "modelreg.fit(all_features,target)"
   ]
  },
  {
   "cell_type": "code",
   "execution_count": 20,
   "metadata": {
    "scrolled": true
   },
   "outputs": [
    {
     "data": {
      "image/png": "[encoded data removed]",
      "text/plain": [
       "<Figure size 576x396 with 1 Axes>"
      ]
     },
     "metadata": {},
     "output_type": "display_data"
    }
   ],
   "source": [
    "# Graph what the model found\n",
    "features = all_features.columns\n",
    "importances = modelreg.feature_importances_\n",
    "indices = np.argsort(importances)[-10:]  # top 10 features\n",
    "plt.title('Regression Feature Importances')\n",
    "plt.barh(range(len(indices)), importances[indices], color='b', align='center')\n",
    "plt.yticks(range(len(indices)), [features[i] for i in indices])\n",
    "plt.xlabel('Relative Importance')\n",
    "plt.show()"
   ]
  },
  {
   "cell_type": "code",
   "execution_count": 21,
   "metadata": {},
   "outputs": [
    {
     "name": "stdout",
     "output_type": "stream",
     "text": [
      "Results:\n",
      "MAE: 2.40551367231773\n",
      "MSE: 508.0846064142112\n",
      "RMSE: 22.540732162336944\n",
      "R-Squared: 0.9912896479289183\n"
     ]
    }
   ],
   "source": [
    "# Make predictions using test\n",
    "predictions_reg = modelreg.predict(X_test)\n",
    "mae = metrics.mean_absolute_error(y_test['CreateJob'], predictions_reg)\n",
    "mse = metrics.mean_squared_error(y_test['CreateJob'], predictions_reg)\n",
    "rmse = np.sqrt(mse) # or mse**(0.5)\n",
    "\n",
    "# back = np.expm1(Y)\n",
    "\n",
    "# y_test['CreateJob'] = np.expm1(y_test['CreateJob'])\n",
    "# predictions_reg = np.expm1(predictions_reg)\n",
    "\n",
    "r2 = r2_score(y_test['CreateJob'], predictions_reg)\n",
    "\n",
    "print(\"Results:\")\n",
    "print(\"MAE:\",mae)\n",
    "print(\"MSE:\", mse)\n",
    "print(\"RMSE:\", rmse)\n",
    "print(\"R-Squared:\", r2)"
   ]
  },
  {
   "cell_type": "code",
   "execution_count": 22,
   "metadata": {},
   "outputs": [],
   "source": [
    "# Grab all greater than .1\n",
    "cnt = 0\n",
    "feature_list = []\n",
    "for i in features:\n",
    "    # print(i)\n",
    "    # print(importances[cnt])\n",
    "    if importances[cnt] > 0.1:\n",
    "        # print(\"*\")\n",
    "        feature_list.append(i)\n",
    "    cnt += 1    "
   ]
  },
  {
   "cell_type": "code",
   "execution_count": 23,
   "metadata": {},
   "outputs": [
    {
     "name": "stdout",
     "output_type": "stream",
     "text": [
      "['ApprovalFY', 'Term', 'NoEmp', 'GrAppv', 'SBA_Appv', 'NewExist_0', 'NewExist_1', 'NewExist_2', 'UrbanRural_0', 'UrbanRural_1', 'UrbanRural_2', 'Month_Apr', 'Month_Aug', 'Month_Dec', 'Month_Feb', 'Month_Jan', 'Month_Jul', 'Month_Jun', 'Month_Mar', 'Month_Nov', 'Month_Oct', 'Month_Sep', 'RevLineCr_3', 'RevLineCr_4', 'FranchiseCode_2', 'FranchiseCode_3', 'FranchiseCode_4', 'FranchiseCode_5', 'FranchiseCode_8', 'FranchiseCode_9', 'FranchiseCode_10', 'FranchiseCode_11', 'FranchiseCode_12', 'LowDoc_2', 'LowDoc_3', 'LowDoc_4', 'NAICS_2', 'NAICS_3', 'NAICS_4', 'NAICS_5', 'NAICS_6', 'NAICS_7', 'NAICS_8', 'NAICS_9', 'NAICS_10', 'NAICS_11', 'Bank_2', 'Bank_3', 'Bank_4', 'Bank_5', 'Bank_6', 'Bank_7', 'Bank_8', 'Bank_9', 'Bank_10', 'Bank_11', 'Bank_12', 'Bank_13']\n"
     ]
    }
   ],
   "source": [
    "print(feature_list)"
   ]
  },
  {
   "cell_type": "code",
   "execution_count": 24,
   "metadata": {},
   "outputs": [
    {
     "name": "stdout",
     "output_type": "stream",
     "text": [
      "[LightGBM] [Warning] Auto-choosing row-wise multi-threading, the overhead of testing was 0.056721 seconds.\n",
      "You can set `force_row_wise=true` to remove the overhead.\n",
      "And if memory is not enough, you can set `force_col_wise=true`.\n"
     ]
    },
    {
     "data": {
      "text/plain": [
       "LGBMRegressor(verbose=0)"
      ]
     },
     "execution_count": 24,
     "metadata": {},
     "output_type": "execute_result"
    }
   ],
   "source": [
    "# Retrain with new feature selection\n",
    "np.set_printoptions(suppress=True)\n",
    "all_features=X_train[(feature_list)]\n",
    "target = y_train['CreateJob']\n",
    "modelreg = LGBMRegressor(verbose=0)\n",
    "modelreg.fit(all_features,target)"
   ]
  },
  {
   "cell_type": "code",
   "execution_count": 25,
   "metadata": {},
   "outputs": [
    {
     "name": "stdout",
     "output_type": "stream",
     "text": [
      "Results:\n",
      "MAE: 2.40551367231773\n",
      "MSE: 508.0846064142112\n",
      "RMSE: 22.540732162336944\n",
      "R-Squared: 0.9912896479289183\n"
     ]
    }
   ],
   "source": [
    "# Make predictions using test\n",
    "predictions_reg = modelreg.predict(X_test[(feature_list)])\n",
    "mae = metrics.mean_absolute_error(y_test['CreateJob'], predictions_reg)\n",
    "mse = metrics.mean_squared_error(y_test['CreateJob'], predictions_reg)\n",
    "rmse = np.sqrt(mse) # or mse**(0.5)  \n",
    "r2 = r2_score(y_test['CreateJob'], predictions_reg)\n",
    "\n",
    "print(\"Results:\")\n",
    "print(\"MAE:\",mae)\n",
    "print(\"MSE:\", mse)\n",
    "print(\"RMSE:\", rmse)\n",
    "print(\"R-Squared:\", r2)"
   ]
  },
  {
   "cell_type": "code",
   "execution_count": 26,
   "metadata": {},
   "outputs": [],
   "source": [
    "reg_feature_list = feature_list"
   ]
  },
  {
   "cell_type": "markdown",
   "metadata": {},
   "source": [
    "### Parameter Tunting"
   ]
  },
  {
   "cell_type": "markdown",
   "metadata": {},
   "source": [
    "##### Found with PyCaret. See Pycaret_Reg_Tuning for explanation of parameter selection"
   ]
  },
  {
   "cell_type": "code",
   "execution_count": 27,
   "metadata": {},
   "outputs": [
    {
     "name": "stdout",
     "output_type": "stream",
     "text": [
      "[LightGBM] [Warning] Auto-choosing row-wise multi-threading, the overhead of testing was 0.047894 seconds.\n",
      "You can set `force_row_wise=true` to remove the overhead.\n",
      "And if memory is not enough, you can set `force_col_wise=true`.\n"
     ]
    },
    {
     "data": {
      "text/plain": [
       "LGBMRegressor(min_child_samples=15, n_estimators=90, num_leaves=80, verbose=0)"
      ]
     },
     "execution_count": 27,
     "metadata": {},
     "output_type": "execute_result"
    }
   ],
   "source": [
    "# Retrain with new feature selection\n",
    "np.set_printoptions(suppress=True)\n",
    "all_features=X_train[(feature_list)]\n",
    "target = y_train['CreateJob']\n",
    "modelreg = LGBMRegressor(verbose=0,learning_rate=.1, n_estimators=90, num_leaves=80,min_child_samples=15)\n",
    "modelreg.fit(all_features,target)"
   ]
  },
  {
   "cell_type": "code",
   "execution_count": 28,
   "metadata": {},
   "outputs": [
    {
     "name": "stdout",
     "output_type": "stream",
     "text": [
      "Results:\n",
      "MAE: 2.3540506551031712\n",
      "MSE: 475.65490820305814\n",
      "RMSE: 21.809514167056957\n",
      "R-Squared: 0.9918456066913213\n"
     ]
    }
   ],
   "source": [
    "# Make predictions using test\n",
    "predictions_reg = modelreg.predict(X_test[(feature_list)])\n",
    "mae = metrics.mean_absolute_error(y_test['CreateJob'], predictions_reg)\n",
    "mse = metrics.mean_squared_error(y_test['CreateJob'], predictions_reg)\n",
    "rmse = np.sqrt(mse) # or mse**(0.5)  \n",
    "r2 = r2_score(y_test['CreateJob'], predictions_reg)\n",
    "\n",
    "print(\"Results:\")\n",
    "print(\"MAE:\",mae)\n",
    "print(\"MSE:\", mse)\n",
    "print(\"RMSE:\", rmse)\n",
    "print(\"R-Squared:\", r2)"
   ]
  },
  {
   "cell_type": "code",
   "execution_count": 29,
   "metadata": {},
   "outputs": [
    {
     "name": "stdout",
     "output_type": "stream",
     "text": [
      "Adjusted R-Squared 0.99184296983304\n"
     ]
    }
   ],
   "source": [
    "# Adjusted R2\n",
    "score = r2\n",
    "#Adjusted RSquared of the model\n",
    "n=len(y_test) #number of records\n",
    "p=len(feature_list)#number of features .i.e. columns excluding uniqueId and target variable\n",
    "adjr= 1-(1-score)*(n-1)/(n-p-1)\n",
    "print(\"Adjusted R-Squared\", adjr)"
   ]
  },
  {
   "cell_type": "markdown",
   "metadata": {},
   "source": [
    "### Validations "
   ]
  },
  {
   "cell_type": "code",
   "execution_count": 30,
   "metadata": {},
   "outputs": [
    {
     "name": "stdout",
     "output_type": "stream",
     "text": [
      "Results:\n",
      "MAE: 2.4166381746018883\n",
      "MSE: 1104.4532147510104\n",
      "RMSE: 33.23331483242396\n",
      "R-Squared: 0.9811106927010818\n"
     ]
    }
   ],
   "source": [
    "# Validation data set\n",
    "\n",
    "# Make predictions using test\n",
    "predictions_val_reg = modelreg.predict(X_val[(feature_list)])\n",
    "vmae = metrics.mean_absolute_error(y_val['CreateJob'], predictions_val_reg)\n",
    "vmse = metrics.mean_squared_error(y_val['CreateJob'], predictions_val_reg)\n",
    "vrmse = np.sqrt(vmse) # or mse**(0.5)  \n",
    "vr2 = r2_score(y_val['CreateJob'], predictions_val_reg)\n",
    "\n",
    "print(\"Results:\")\n",
    "print(\"MAE:\",vmae)\n",
    "print(\"MSE:\", vmse)\n",
    "print(\"RMSE:\", vrmse)\n",
    "print(\"R-Squared:\", vr2)"
   ]
  },
  {
   "cell_type": "code",
   "execution_count": 31,
   "metadata": {},
   "outputs": [
    {
     "name": "stdout",
     "output_type": "stream",
     "text": [
      "Adjusted R-Squared 0.9811045845303702\n"
     ]
    }
   ],
   "source": [
    "# Adjusted R2\n",
    "vscore = vr2\n",
    "#Adjusted RSquared of the model\n",
    "n=len(y_val) #number of records\n",
    "p=len(feature_list)#number of features .i.e. columns excluding uniqueId and target variable\n",
    "adjr= 1-(1-vscore)*(n-1)/(n-p-1)\n",
    "print(\"Adjusted R-Squared\",adjr)"
   ]
  },
  {
   "cell_type": "code",
   "execution_count": 32,
   "metadata": {},
   "outputs": [],
   "source": [
    "# Save the model as a pickle file\n",
    "filename = 'regr_jobscreated_model.pickle'\n",
    "pickle.dump(modelreg, open(filename, 'wb'))"
   ]
  },
  {
   "cell_type": "markdown",
   "metadata": {},
   "source": [
    "# MIS_logical Section\n",
    "\n",
    "### Feature Selection \n",
    "\n",
    "#### Categorical for MIS_logical "
   ]
  },
  {
   "cell_type": "code",
   "execution_count": 33,
   "metadata": {},
   "outputs": [
    {
     "data": {
      "text/plain": [
       "<catboost.core.CatBoostClassifier at 0x1da52f6d490>"
      ]
     },
     "execution_count": 33,
     "metadata": {},
     "output_type": "execute_result"
    }
   ],
   "source": [
    "# Split sets for feature selection\n",
    "np.set_printoptions(suppress=True)\n",
    "# Actually dropped overall accuracy \n",
    "all_features=X_train.drop(columns=['ApprovalFY'])\n",
    "target = y_train['MIS_logical']\n",
    "modelclass = CatBoostClassifier(verbose=0)\n",
    "modelclass.fit(all_features,target)"
   ]
  },
  {
   "cell_type": "code",
   "execution_count": 34,
   "metadata": {},
   "outputs": [
    {
     "data": {
      "image/png": "[encoded data removed]",
      "text/plain": [
       "<Figure size 576x396 with 1 Axes>"
      ]
     },
     "metadata": {},
     "output_type": "display_data"
    }
   ],
   "source": [
    "# Graph what the model found\n",
    "features = all_features.columns\n",
    "importances = modelclass.feature_importances_\n",
    "indices = np.argsort(importances)[-10:]  # top 10 features\n",
    "plt.title('Classification Feature Importances')\n",
    "plt.barh(range(len(indices)), importances[indices], color='b', align='center')\n",
    "plt.yticks(range(len(indices)), [features[i] for i in indices])\n",
    "plt.xlabel('Relative Importance')\n",
    "plt.show()"
   ]
  },
  {
   "cell_type": "code",
   "execution_count": 35,
   "metadata": {},
   "outputs": [],
   "source": [
    "predictions_class = modelclass.predict(X_test)"
   ]
  },
  {
   "cell_type": "code",
   "execution_count": 36,
   "metadata": {},
   "outputs": [
    {
     "name": "stdout",
     "output_type": "stream",
     "text": [
      "              precision    recall  f1-score   support\n",
      "\n",
      "           0       0.87      0.82      0.84     31473\n",
      "           1       0.96      0.97      0.97    147949\n",
      "\n",
      "    accuracy                           0.95    179422\n",
      "   macro avg       0.91      0.90      0.91    179422\n",
      "weighted avg       0.95      0.95      0.95    179422\n",
      "\n"
     ]
    }
   ],
   "source": [
    "print(classification_report(y_test['MIS_logical'], predictions_class))"
   ]
  },
  {
   "cell_type": "code",
   "execution_count": 37,
   "metadata": {},
   "outputs": [],
   "source": [
    "# Grab all greater than .1\n",
    "cnt = 0\n",
    "feature_list = []\n",
    "for i in features:\n",
    "    # print(i)\n",
    "    # print(importances[cnt])\n",
    "    if importances[cnt] > .1:\n",
    "        # print(\"*\")\n",
    "        feature_list.append(i)\n",
    "    cnt += 1   "
   ]
  },
  {
   "cell_type": "code",
   "execution_count": 38,
   "metadata": {},
   "outputs": [
    {
     "name": "stdout",
     "output_type": "stream",
     "text": [
      "['Term', 'NoEmp', 'GrAppv', 'SBA_Appv', 'NewExist_1', 'NewExist_2', 'UrbanRural_0', 'UrbanRural_1', 'UrbanRural_2', 'RevLineCr_2', 'RevLineCr_3', 'RevLineCr_4', 'FranchiseCode_6', 'FranchiseCode_8', 'FranchiseCode_10', 'FranchiseCode_11', 'FranchiseCode_12', 'LowDoc_3', 'LowDoc_4', 'NAICS_2', 'NAICS_3', 'NAICS_4', 'NAICS_5', 'NAICS_6', 'NAICS_7', 'NAICS_8', 'NAICS_9', 'NAICS_10', 'NAICS_11', 'Bank_2', 'Bank_3', 'Bank_4', 'Bank_5', 'Bank_6', 'Bank_7', 'Bank_8', 'Bank_9', 'Bank_10', 'Bank_11', 'Bank_12', 'Bank_13']\n"
     ]
    }
   ],
   "source": [
    "print(feature_list)"
   ]
  },
  {
   "cell_type": "code",
   "execution_count": 39,
   "metadata": {},
   "outputs": [
    {
     "data": {
      "text/plain": [
       "<catboost.core.CatBoostClassifier at 0x1da4d775100>"
      ]
     },
     "execution_count": 39,
     "metadata": {},
     "output_type": "execute_result"
    }
   ],
   "source": [
    "# Retrain with feature selection\n",
    "np.set_printoptions(suppress=True)\n",
    "all_features=X_train[(feature_list)]\n",
    "target = y_train['MIS_logical']\n",
    "modelclass = CatBoostClassifier(verbose=0)\n",
    "modelclass.fit(all_features,target)"
   ]
  },
  {
   "cell_type": "code",
   "execution_count": 40,
   "metadata": {},
   "outputs": [],
   "source": [
    "predictions_class = modelclass.predict(X_test)"
   ]
  },
  {
   "cell_type": "code",
   "execution_count": 41,
   "metadata": {},
   "outputs": [
    {
     "name": "stdout",
     "output_type": "stream",
     "text": [
      "              precision    recall  f1-score   support\n",
      "\n",
      "           0       0.86      0.82      0.84     31473\n",
      "           1       0.96      0.97      0.97    147949\n",
      "\n",
      "    accuracy                           0.95    179422\n",
      "   macro avg       0.91      0.90      0.91    179422\n",
      "weighted avg       0.95      0.95      0.95    179422\n",
      "\n"
     ]
    }
   ],
   "source": [
    "print(classification_report(y_test['MIS_logical'], predictions_class))"
   ]
  },
  {
   "cell_type": "code",
   "execution_count": 42,
   "metadata": {},
   "outputs": [
    {
     "name": "stdout",
     "output_type": "stream",
     "text": [
      "AUC: 0.90\n"
     ]
    }
   ],
   "source": [
    "auc = metrics.roc_auc_score(y_test['MIS_logical'], predictions_class)\n",
    "auc = round(auc,2)\n",
    "print('AUC: %.2f' % auc)"
   ]
  },
  {
   "cell_type": "markdown",
   "metadata": {},
   "source": [
    "### Parameter Tuning \n",
    "##### Found with PyCaret. See Pycaret_Log_Tuning for explanation of parameter selection."
   ]
  },
  {
   "cell_type": "code",
   "execution_count": 43,
   "metadata": {},
   "outputs": [
    {
     "data": {
      "text/plain": [
       "<catboost.core.CatBoostClassifier at 0x1da0432f370>"
      ]
     },
     "execution_count": 43,
     "metadata": {},
     "output_type": "execute_result"
    }
   ],
   "source": [
    "# Note the improvement in AUC\n",
    "modelclass = CatBoostClassifier(verbose=0,scale_pos_weight=.23)\n",
    "modelclass.fit(all_features,target)"
   ]
  },
  {
   "cell_type": "code",
   "execution_count": 44,
   "metadata": {},
   "outputs": [],
   "source": [
    "predictions_class = modelclass.predict(X_test)"
   ]
  },
  {
   "cell_type": "code",
   "execution_count": 45,
   "metadata": {},
   "outputs": [
    {
     "name": "stdout",
     "output_type": "stream",
     "text": [
      "              precision    recall  f1-score   support\n",
      "\n",
      "           0       0.74      0.93      0.83     31473\n",
      "           1       0.98      0.93      0.96    147949\n",
      "\n",
      "    accuracy                           0.93    179422\n",
      "   macro avg       0.86      0.93      0.89    179422\n",
      "weighted avg       0.94      0.93      0.93    179422\n",
      "\n"
     ]
    }
   ],
   "source": [
    "print(classification_report(y_test['MIS_logical'], predictions_class))"
   ]
  },
  {
   "cell_type": "code",
   "execution_count": 46,
   "metadata": {},
   "outputs": [
    {
     "name": "stdout",
     "output_type": "stream",
     "text": [
      "AUC: 0.93\n"
     ]
    }
   ],
   "source": [
    "auc = metrics.roc_auc_score(y_test['MIS_logical'], predictions_class)\n",
    "auc = round(auc,2)\n",
    "print('AUC: %.2f' % auc)"
   ]
  },
  {
   "cell_type": "code",
   "execution_count": 47,
   "metadata": {},
   "outputs": [
    {
     "data": {
      "text/plain": [
       "[Text(0, 0.5, 'Default'), Text(0, 1.5, 'Paid')]"
      ]
     },
     "execution_count": 47,
     "metadata": {},
     "output_type": "execute_result"
    },
    {
     "data": {
      "image/png": "[encoded data removed]",
      "text/plain": [
       "<Figure size 576x396 with 2 Axes>"
      ]
     },
     "metadata": {},
     "output_type": "display_data"
    },
    {
     "data": {
      "text/plain": [
       "<Figure size 720x504 with 0 Axes>"
      ]
     },
     "metadata": {},
     "output_type": "display_data"
    }
   ],
   "source": [
    "data = confusion_matrix(y_test['MIS_logical'], predictions_class)\n",
    "ax= plt.subplot()\n",
    "\n",
    "df_cm = pd.DataFrame(data, columns=np.unique(y_test['MIS_logical']), index = np.unique(y_test['MIS_logical']))\n",
    "df_cm.index.name = 'Actual'\n",
    "df_cm.columns.name = 'Predicted'\n",
    "plt.figure(figsize = (10,7))\n",
    "sns.set(font_scale=1.4)#for label size\n",
    "sns.heatmap(df_cm, cmap=\"Blues\", annot=True,ax = ax, annot_kws={\"size\": 16},fmt='d')# font size\n",
    "ax.set_title('Confusion Matrix for SBA Loan Predictions') \n",
    "ax.xaxis.set_ticklabels(['Default', 'Paid'])   \n",
    "ax.yaxis.set_ticklabels(['Default', 'Paid'])\n"
   ]
  },
  {
   "cell_type": "code",
   "execution_count": 48,
   "metadata": {},
   "outputs": [],
   "source": [
    "fpr, tpr, thresholds = metrics.roc_curve(y_test['MIS_logical'], predictions_class)"
   ]
  },
  {
   "cell_type": "code",
   "execution_count": 49,
   "metadata": {},
   "outputs": [
    {
     "data": {
      "image/png": "[encoded data removed]",
      "text/plain": [
       "<Figure size 576x396 with 1 Axes>"
      ]
     },
     "metadata": {},
     "output_type": "display_data"
    }
   ],
   "source": [
    "def plot_roc_curve(fpr, tpr):\n",
    "    plt.plot(fpr, tpr, color='orange', label='ROC '+ str(auc))\n",
    "    plt.plot([0, 1], [0, 1], color='darkblue', linestyle='--')\n",
    "    plt.xlabel('False Positive Rate')\n",
    "    plt.ylabel('True Positive Rate')\n",
    "    plt.title('Receiver Operating Characteristic (ROC) Curve' )\n",
    "    plt.legend(frameon=True)\n",
    "    plt.show()\n",
    "\n",
    "plot_roc_curve(fpr, tpr)"
   ]
  },
  {
   "cell_type": "markdown",
   "metadata": {},
   "source": [
    "### Validations"
   ]
  },
  {
   "cell_type": "code",
   "execution_count": 50,
   "metadata": {},
   "outputs": [],
   "source": [
    "predictions_val_class = modelclass.predict(X_val)"
   ]
  },
  {
   "cell_type": "code",
   "execution_count": 51,
   "metadata": {},
   "outputs": [
    {
     "name": "stdout",
     "output_type": "stream",
     "text": [
      "              precision    recall  f1-score   support\n",
      "\n",
      "           0       0.74      0.93      0.83     31392\n",
      "           1       0.98      0.93      0.96    148030\n",
      "\n",
      "    accuracy                           0.93    179422\n",
      "   macro avg       0.86      0.93      0.89    179422\n",
      "weighted avg       0.94      0.93      0.93    179422\n",
      "\n"
     ]
    }
   ],
   "source": [
    "print(classification_report(y_val['MIS_logical'], predictions_val_class))"
   ]
  },
  {
   "cell_type": "code",
   "execution_count": 52,
   "metadata": {},
   "outputs": [
    {
     "name": "stdout",
     "output_type": "stream",
     "text": [
      "AUC: 0.93\n"
     ]
    }
   ],
   "source": [
    "vauc = metrics.roc_auc_score(y_val['MIS_logical'], predictions_val_class)\n",
    "vauc = round(vauc,2)\n",
    "print('AUC: %.2f' % vauc)"
   ]
  },
  {
   "cell_type": "code",
   "execution_count": 53,
   "metadata": {},
   "outputs": [],
   "source": [
    "# Save the model as a pickle file\n",
    "filename = 'class_loanrepay_model.pickle'\n",
    "pickle.dump(modelclass, open(filename, 'wb'))"
   ]
  }
 ],
 "metadata": {
  "kernelspec": {
   "display_name": "Python 3",
   "language": "python",
   "name": "python3"
  },
  "language_info": {
   "codemirror_mode": {
    "name": "ipython",
    "version": 3
   },
   "file_extension": ".py",
   "mimetype": "text/x-python",
   "name": "python",
   "nbconvert_exporter": "python",
   "pygments_lexer": "ipython3",
   "version": "3.8.3"
  }
 },
 "nbformat": 4,
 "nbformat_minor": 4
}
